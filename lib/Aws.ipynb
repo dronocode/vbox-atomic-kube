{
 "cells": [
  {
   "cell_type": "markdown",
   "metadata": {},
   "source": [
    "# importing"
   ]
  },
  {
   "cell_type": "code",
   "execution_count": 38,
   "metadata": {
    "collapsed": false
   },
   "outputs": [
    {
     "data": {
      "text/plain": [
       "\u001b[32mimport \u001b[39m\u001b[36m$ivy.$                                   \n",
       "\u001b[39m\n",
       "\u001b[32mimport \u001b[39m\u001b[36m$ivy.$                          \n",
       "\u001b[39m\n",
       "\u001b[32mimport \u001b[39m\u001b[36mammonite.ops._\n",
       "\u001b[39m\n",
       "\u001b[32mimport \u001b[39m\u001b[36mjava.io._\n",
       "\u001b[39m\n",
       "\u001b[32mimport \u001b[39m\u001b[36mjava.util._\n",
       "\u001b[39m\n",
       "\u001b[32mimport \u001b[39m\u001b[36mscala.collection.JavaConverters._\u001b[39m"
      ]
     },
     "execution_count": 38,
     "metadata": {},
     "output_type": "execute_result"
    }
   ],
   "source": [
    "import $ivy.`com.amazonaws:aws-java-sdk:1.11.22`\n",
    "import $ivy.`com.typesafe:config:1.3.1`\n",
    "import ammonite.ops._\n",
    "import java.io._\n",
    "import java.util._\n",
    "import scala.collection.JavaConverters._"
   ]
  },
  {
   "cell_type": "markdown",
   "metadata": {},
   "source": [
    "# config"
   ]
  },
  {
   "cell_type": "code",
   "execution_count": 27,
   "metadata": {
    "collapsed": false
   },
   "outputs": [
    {
     "data": {
      "text/plain": [
       "\u001b[32mimport \u001b[39m\u001b[36mcom.typesafe.config.ConfigFactory\n",
       "\u001b[39m\n",
       "\u001b[36mcfg\u001b[39m: \u001b[32mConfig\u001b[39m = Config(SimpleConfigObject({\"aws\":{\"ami\":\"ami-10f53a06\",\"count\":1,\"instance\":{\"type\":\"t2.small\"},\"key\":{\"pair\":\"atomic\"},\"region\":\"us-east-1\",\"security\":{\"group\":\"open-ssh\"}}}))"
      ]
     },
     "execution_count": 27,
     "metadata": {},
     "output_type": "execute_result"
    }
   ],
   "source": [
    "import com.typesafe.config.ConfigFactory\n",
    "val cfg = ConfigFactory.parseFile(new File(\"aws.conf\"))"
   ]
  },
  {
   "cell_type": "markdown",
   "metadata": {},
   "source": [
    "# ec2 client"
   ]
  },
  {
   "cell_type": "code",
   "execution_count": 25,
   "metadata": {
    "collapsed": false
   },
   "outputs": [
    {
     "data": {
      "text/plain": [
       "\u001b[32mimport \u001b[39m\u001b[36mcom.amazonaws.services.ec2._\n",
       "\u001b[39m\n",
       "\u001b[32mimport \u001b[39m\u001b[36mcom.amazonaws.regions._\n",
       "\n",
       "\u001b[39m\n",
       "\u001b[36mec2\u001b[39m: \u001b[32mAmazonEC2Client\u001b[39m = com.amazonaws.services.ec2.AmazonEC2Client@2459acbc\n",
       "\u001b[36mregions\u001b[39m: \u001b[32mRegions\u001b[39m = US_EAST_1"
      ]
     },
     "execution_count": 25,
     "metadata": {},
     "output_type": "execute_result"
    }
   ],
   "source": [
    "import com.amazonaws.services.ec2._\n",
    "import com.amazonaws.regions._\n",
    "\n",
    "val ec2 = new AmazonEC2Client()\n",
    "val regions = Regions.fromName(cfg.getString(\"aws.region\"))\n",
    "ec2.setRegion(Region.getRegion(regions))\n"
   ]
  },
  {
   "cell_type": "markdown",
   "metadata": {},
   "source": [
    "# define instances"
   ]
  },
  {
   "cell_type": "code",
   "execution_count": 28,
   "metadata": {
    "collapsed": false
   },
   "outputs": [
    {
     "data": {
      "text/plain": [
       "\u001b[32mimport \u001b[39m\u001b[36mcom.typesafe.config.Config\n",
       "\u001b[39m\n",
       "\u001b[32mimport \u001b[39m\u001b[36mcom.amazonaws.services.ec2.model._\n",
       "\u001b[39m\n",
       "\u001b[36mireq\u001b[39m: \u001b[32mRunInstancesRequest\u001b[39m = {ImageId: ami-10f53a06,MinCount: 1,MaxCount: 1,KeyName: atomic,SecurityGroups: [open-ssh],SecurityGroupIds: [],InstanceType: t2.small,BlockDeviceMappings: [],NetworkInterfaces: [],}"
      ]
     },
     "execution_count": 28,
     "metadata": {},
     "output_type": "execute_result"
    }
   ],
   "source": [
    "import com.typesafe.config.Config\n",
    "import com.amazonaws.services.ec2.model._\n",
    "val ireq = new RunInstancesRequest()\n",
    "    .withImageId(cfg.getString(\"aws.ami\"))\n",
    "    .withInstanceType(cfg.getString(\"aws.instance.type\"))\n",
    "    .withMinCount(cfg.getInt(\"aws.count\"))\n",
    "    .withMaxCount(cfg.getInt(\"aws.count\"))\n",
    "    .withKeyName(cfg.getString(\"aws.key.pair\"))\n",
    "    .withSecurityGroups(cfg.getString(\"aws.security.group\"))\n"
   ]
  },
  {
   "cell_type": "code",
   "execution_count": 29,
   "metadata": {
    "collapsed": false
   },
   "outputs": [
    {
     "data": {
      "text/plain": [
       "\u001b[36mres28\u001b[39m: \u001b[32mRunInstancesResult\u001b[39m = {Reservation: {ReservationId: r-0eebddfb6d63f9f2d,OwnerId: 794403675119,Groups: [],Instances: [{InstanceId: i-02c010158b74d86c1,ImageId: ami-10f53a06,State: {Code: 0,Name: pending},PrivateDnsName: ip-172-31-18-186.ec2.internal,PublicDnsName: ,StateTransitionReason: ,KeyName: atomic,AmiLaunchIndex: 0,ProductCodes: [],InstanceType: t2.small,LaunchTime: Wed Mar 22 11:37:23 EDT 2017,Placement: {AvailabilityZone: us-east-1c,GroupName: ,Tenancy: default,},Monitoring: {State: disabled},SubnetId: subnet-32998d6b,VpcId: vpc-2987034d,PrivateIpAddress: 172.31.18.186,StateReason: {Code: pending,Message: pending},Architecture: x86_64,RootDeviceType: ebs,RootDeviceName: /dev/sda1,BlockDeviceMappings: [],VirtualizationType: hvm,ClientToken: e64fa0db-f681-4ef6-a311-9f55dafce7e7,Tags: [],SecurityGroups: [{GroupName: open-ssh,GroupId: sg-a752fcd8}],SourceDestCheck: true,Hypervisor: xen,NetworkInterfaces: [{NetworkInterfaceId: eni-22ef6ae4,SubnetId: subnet-32998d6b\u001b[33m...\u001b[39m"
      ]
     },
     "execution_count": 29,
     "metadata": {},
     "output_type": "execute_result"
    }
   ],
   "source": [
    "val inst = ec2.runInstances(ireq)"
   ]
  },
  {
   "cell_type": "code",
   "execution_count": 46,
   "metadata": {
    "collapsed": false
   },
   "outputs": [
    {
     "name": "stderr",
     "output_type": "stream",
     "text": [
      "cmd46.sc:3: value getInstances is not a member of com.amazonaws.services.ec2.AmazonEC2Client\n",
      "val res46_2 = ec2.getInstances\n",
      "                  ^"
     ]
    },
    {
     "ename": "",
     "evalue": "",
     "output_type": "error",
     "traceback": [
      "Compilation Failed"
     ]
    }
   ],
   "source": [
    "//val l = res28.getReservation.getInstances.asScala\n",
    "//l(0).getPublicIpAddress\n",
    "e"
   ]
  },
  {
   "cell_type": "code",
   "execution_count": 46,
   "metadata": {
    "collapsed": false
   },
   "outputs": [
    {
     "name": "stderr",
     "output_type": "stream",
     "text": [
      "cmd46.sc:1: type mismatch;\n",
      " found   : com.amazonaws.services.ec2.model.RunInstancesResult\n",
      " required: com.amazonaws.services.ec2.model.TerminateInstancesRequest\n",
      "val res46 = ec2.terminateInstances(res28)\n",
      "                                   ^"
     ]
    },
    {
     "ename": "",
     "evalue": "",
     "output_type": "error",
     "traceback": [
      "Compilation Failed"
     ]
    }
   ],
   "source": [
    "ec2.terminateInstances(res28)"
   ]
  },
  {
   "cell_type": "code",
   "execution_count": 50,
   "metadata": {
    "collapsed": false
   },
   "outputs": [
    {
     "data": {
      "text/plain": [
       "\u001b[36mres49\u001b[39m: \u001b[32mLsSeq\u001b[39m = \u001b[33mLsSeq\u001b[39m(\n",
       "  /var/lib/docker/virtualbox/VirtualBox VMs/master/atomic/lib/.ipynb_checkpoints,\n",
       "  /var/lib/docker/virtualbox/VirtualBox VMs/master/atomic/lib/Aws.ipynb,\n",
       "  /var/lib/docker/virtualbox/VirtualBox VMs/master/atomic/lib/Aws.scala,\n",
       "  /var/lib/docker/virtualbox/VirtualBox VMs/master/atomic/lib/OldAws.ipynb,\n",
       "  /var/lib/docker/virtualbox/VirtualBox VMs/master/atomic/lib/aws.conf,\n",
       "  /var/lib/docker/virtualbox/VirtualBox VMs/master/atomic/lib/aws.prp\n",
       ")"
      ]
     },
     "execution_count": 50,
     "metadata": {},
     "output_type": "execute_result"
    }
   ],
   "source": [
    "ls! pwd"
   ]
  },
  {
   "cell_type": "code",
   "execution_count": null,
   "metadata": {
    "collapsed": true
   },
   "outputs": [],
   "source": []
  }
 ],
 "metadata": {
  "kernelspec": {
   "display_name": "Scala",
   "language": "scala",
   "name": "scala"
  },
  "language_info": {
   "codemirror_mode": "text/x-scala",
   "file_extension": ".scala",
   "mimetype": "text/x-scala",
   "name": "scala211",
   "nbconvert_exporter": "script",
   "pygments_lexer": "scala",
   "version": "2.11.8"
  }
 },
 "nbformat": 4,
 "nbformat_minor": 0
}
